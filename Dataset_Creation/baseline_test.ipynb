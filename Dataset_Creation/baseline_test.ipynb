{
 "cells": [
  {
   "cell_type": "code",
   "execution_count": 2,
   "metadata": {},
   "outputs": [
    {
     "name": "stdout",
     "output_type": "stream",
     "text": [
      "Collecting numpy\n",
      "  Downloading numpy-2.2.6-cp312-cp312-manylinux_2_17_x86_64.manylinux2014_x86_64.whl.metadata (62 kB)\n",
      "Downloading numpy-2.2.6-cp312-cp312-manylinux_2_17_x86_64.manylinux2014_x86_64.whl (16.5 MB)\n",
      "\u001b[2K   \u001b[90m━━━━━━━━━━━━━━━━━━━━━━━━━━━━━━━━━━━━━━━━\u001b[0m \u001b[32m16.5/16.5 MB\u001b[0m \u001b[31m36.0 MB/s\u001b[0m eta \u001b[36m0:00:00\u001b[0m00:01\u001b[0m0:01\u001b[0m\n",
      "\u001b[?25hInstalling collected packages: numpy\n",
      "Successfully installed numpy-2.2.6\n",
      "\u001b[31mERROR: Could not find a version that satisfies the requirement time (from versions: none)\u001b[0m\u001b[31m\n",
      "\u001b[0m\u001b[31mERROR: No matching distribution found for time\u001b[0m\u001b[31m\n",
      "\u001b[0mCollecting datetime\n",
      "  Downloading DateTime-5.5-py3-none-any.whl.metadata (33 kB)\n",
      "Collecting zope.interface (from datetime)\n",
      "  Downloading zope.interface-7.2-cp312-cp312-manylinux_2_5_x86_64.manylinux1_x86_64.manylinux_2_17_x86_64.manylinux2014_x86_64.whl.metadata (44 kB)\n",
      "Collecting pytz (from datetime)\n",
      "  Downloading pytz-2025.2-py2.py3-none-any.whl.metadata (22 kB)\n",
      "Collecting setuptools (from zope.interface->datetime)\n",
      "  Downloading setuptools-80.8.0-py3-none-any.whl.metadata (6.6 kB)\n",
      "Downloading DateTime-5.5-py3-none-any.whl (52 kB)\n",
      "Downloading pytz-2025.2-py2.py3-none-any.whl (509 kB)\n",
      "Downloading zope.interface-7.2-cp312-cp312-manylinux_2_5_x86_64.manylinux1_x86_64.manylinux_2_17_x86_64.manylinux2014_x86_64.whl (264 kB)\n",
      "Downloading setuptools-80.8.0-py3-none-any.whl (1.2 MB)\n",
      "\u001b[2K   \u001b[90m━━━━━━━━━━━━━━━━━━━━━━━━━━━━━━━━━━━━━━━━\u001b[0m \u001b[32m1.2/1.2 MB\u001b[0m \u001b[31m29.9 MB/s\u001b[0m eta \u001b[36m0:00:00\u001b[0m\n",
      "\u001b[?25hInstalling collected packages: pytz, setuptools, zope.interface, datetime\n",
      "\u001b[2K   \u001b[90m━━━━━━━━━━━━━━━━━━━━━━━━━━━━━━━━━━━━━━━━\u001b[0m \u001b[32m4/4\u001b[0m [datetime]2/4\u001b[0m [zope.interface]\n",
      "\u001b[1A\u001b[2KSuccessfully installed datetime-5.5 pytz-2025.2 setuptools-80.8.0 zope.interface-7.2\n"
     ]
    }
   ],
   "source": [
    "!pip install numpy\n",
    "!pip install time\n",
    "!pip install datetime"
   ]
  },
  {
   "cell_type": "code",
   "execution_count": 13,
   "metadata": {},
   "outputs": [
    {
     "name": "stdout",
     "output_type": "stream",
     "text": [
      "Script completed\n"
     ]
    },
    {
     "ename": "KeyboardInterrupt",
     "evalue": "",
     "output_type": "error",
     "traceback": [
      "\u001b[31m---------------------------------------------------------------------------\u001b[39m",
      "\u001b[31mKeyboardInterrupt\u001b[39m                         Traceback (most recent call last)",
      "\u001b[36mCell\u001b[39m\u001b[36m \u001b[39m\u001b[32mIn[13]\u001b[39m\u001b[32m, line 89\u001b[39m\n\u001b[32m     87\u001b[39m         \u001b[38;5;66;03m# Reset state to normal during sleep\u001b[39;00m\n\u001b[32m     88\u001b[39m         current_state = \u001b[33m'\u001b[39m\u001b[33mnormal\u001b[39m\u001b[33m'\u001b[39m\n\u001b[32m---> \u001b[39m\u001b[32m89\u001b[39m         \u001b[43mtime\u001b[49m\u001b[43m.\u001b[49m\u001b[43msleep\u001b[49m\u001b[43m(\u001b[49m\u001b[32;43m4\u001b[39;49m\u001b[43m)\u001b[49m\n\u001b[32m     91\u001b[39m \u001b[38;5;28;01mfinally\u001b[39;00m:\n\u001b[32m     92\u001b[39m     \u001b[38;5;66;03m# Clean up the logging thread\u001b[39;00m\n\u001b[32m     93\u001b[39m     continue_logging = \u001b[38;5;28;01mFalse\u001b[39;00m\n",
      "\u001b[31mKeyboardInterrupt\u001b[39m: "
     ]
    }
   ],
   "source": [
    "import numpy as np\n",
    "import time\n",
    "from datetime import datetime, timedelta\n",
    "import random\n",
    "import csv\n",
    "import os\n",
    "import threading\n",
    "\n",
    "def log_state(log_file, state):\n",
    "    \"\"\"Thread-safe logging function\"\"\"\n",
    "    with open(log_file, 'a', newline='') as f:\n",
    "        writer = csv.writer(f)\n",
    "        writer.writerow([datetime.now().strftime('%Y-%m-%d %H:%M:%S'), state])\n",
    "\n",
    "# Set up the run times\n",
    "total_runtime = timedelta(minutes=110)\n",
    "initial_normal_period = timedelta(minutes=15)\n",
    "start_time = datetime.now()\n",
    "\n",
    "# List of matrix sizes\n",
    "normal_sizes = [1800, 2000, 2200, 2400]\n",
    "anomaly_sizes = [1000, 3000]\n",
    "\n",
    "# Create or open the CSV file for logging\n",
    "log_file = 'execution_log.csv'\n",
    "with open(log_file, 'w', newline='') as f:\n",
    "    writer = csv.writer(f)\n",
    "    writer.writerow(['timestamp', 'state'])  # Write header\n",
    "\n",
    "# Create a flag for the logging thread\n",
    "continue_logging = True\n",
    "\n",
    "def continuous_logging():\n",
    "    \"\"\"Function to continuously log the current state\"\"\"\n",
    "    last_log_time = datetime.now()\n",
    "    while continue_logging:\n",
    "        current_time = datetime.now()\n",
    "        # Log every second\n",
    "        if (current_time - last_log_time).total_seconds() >= 1:\n",
    "            log_state(log_file, current_state)\n",
    "            last_log_time = current_time\n",
    "        time.sleep(0.1)  # Small sleep to prevent excessive CPU usage\n",
    "\n",
    "# Start the logging thread\n",
    "current_state = 'normal'\n",
    "logging_thread = threading.Thread(target=continuous_logging, daemon=True)\n",
    "logging_thread.start()\n",
    "\n",
    "try:\n",
    "    # Initial 15-minute normal period\n",
    "    while datetime.now() - start_time < initial_normal_period:\n",
    "        matrix_size = random.choice(normal_sizes)\n",
    "        \n",
    "        # CPU intensive operation\n",
    "        matrix_a = np.random.rand(matrix_size, matrix_size)\n",
    "        matrix_b = np.random.rand(matrix_size, matrix_size)\n",
    "        \n",
    "        for _ in range(5):\n",
    "            result = np.dot(matrix_a, matrix_b)\n",
    "            matrix_a = result / np.linalg.norm(result)\n",
    "        \n",
    "        del result, matrix_a, matrix_b\n",
    "        time.sleep(4)\n",
    "\n",
    "    # Continue with the normal/anomaly pattern for the remaining time\n",
    "    while datetime.now() - start_time < total_runtime:\n",
    "        random_choice = random.randint(1, 20)\n",
    "        \n",
    "        # Update the current state based on the random choice\n",
    "        if random_choice == 20:\n",
    "            matrix_size = random.choice(anomaly_sizes)\n",
    "            current_state = 'anomaly'\n",
    "        else:\n",
    "            matrix_size = random.choice(normal_sizes)\n",
    "            current_state = 'normal'\n",
    "        \n",
    "        # CPU intensive operation\n",
    "        matrix_a = np.random.rand(matrix_size, matrix_size)\n",
    "        matrix_b = np.random.rand(matrix_size, matrix_size)\n",
    "        \n",
    "        for _ in range(5):\n",
    "            result = np.dot(matrix_a, matrix_b)\n",
    "            matrix_a = result / np.linalg.norm(result)\n",
    "        \n",
    "        del result, matrix_a, matrix_b\n",
    "        \n",
    "        # Reset state to normal during sleep\n",
    "        current_state = 'normal'\n",
    "        time.sleep(4)\n",
    "\n",
    "finally:\n",
    "    # Clean up the logging thread\n",
    "    continue_logging = False\n",
    "    logging_thread.join(timeout=1)\n",
    "    print(\"Script completed\")"
   ]
  }
 ],
 "metadata": {
  "kernelspec": {
   "display_name": ".venv",
   "language": "python",
   "name": "python3"
  },
  "language_info": {
   "codemirror_mode": {
    "name": "ipython",
    "version": 3
   },
   "file_extension": ".py",
   "mimetype": "text/x-python",
   "name": "python",
   "nbconvert_exporter": "python",
   "pygments_lexer": "ipython3",
   "version": "3.12.3"
  }
 },
 "nbformat": 4,
 "nbformat_minor": 2
}
